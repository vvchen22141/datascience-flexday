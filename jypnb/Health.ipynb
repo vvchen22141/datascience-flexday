{
 "cells": [
  {
   "cell_type": "code",
   "execution_count": null,
   "id": "a78006e2",
   "metadata": {
    "deletable": false,
    "editable": false
   },
   "outputs": [],
   "source": [
    "# Initialize Otter\n",
    "import otter\n",
    "grader = otter.Notebook(\"Health.ipynb\")"
   ]
  },
  {
   "cell_type": "markdown",
   "id": "ea1a3000-020e-414e-8be9-ba985d141fe4",
   "metadata": {},
   "source": [
    "# Race and Health\n",
    "\n",
    "You will be learning about historical events that have impacted incarceration rates and affected different racial groups in the U.S.\n",
    "\n",
    "**Estimated Time:** ~30 minutes\n",
    "\n",
    "---\n",
    "\n",
    "## Topics Covered\n",
    "\n",
    "1. Maternal Mortality Rates  \n",
    "2. Breast Cancer  \n",
    "3. Insurance  \n",
    "4. COVID-19"
   ]
  },
  {
   "cell_type": "code",
   "execution_count": null,
   "id": "1b9e8de3-0363-45f4-b2d1-5b7da5dff8c0",
   "metadata": {},
   "outputs": [],
   "source": [
    "from datascience import * # Loads functions from the datascience library into our current environment\n",
    "import numpy as np # Loads numerical functions\n",
    "import math, random # Loads math and random functions\n",
    "import pandas as pd \n",
    "import matplotlib.pyplot as plt\n",
    "import seaborn as sns\n",
    "from IPython.display import display, Latex, Markdown\n",
    "%matplotlib inline\n",
    "import plotly.express as px\n",
    "import ipywidgets as widgets\n",
    "from IPython.display import display\n",
    "from ipywidgets import interact\n",
    "import warnings\n",
    "warnings.filterwarnings('ignore')\n",
    "import helper as hp"
   ]
  },
  {
   "cell_type": "markdown",
   "id": "50f7a907-690b-4ad7-aef2-256ebf4150b1",
   "metadata": {},
   "source": [
    "## Notebook Walk through \n",
    "In addition to the instructions in the notebook, we also have a video walkthrough of the entire process. We encourage you to refer to the video if you need help or even follow along with the instructor as you complete the task."
   ]
  },
  {
   "cell_type": "code",
   "execution_count": null,
   "id": "ec07d474-25e9-4157-9d28-0b063b817346",
   "metadata": {},
   "outputs": [],
   "source": [
    "from IPython.display import YouTubeVideo\n",
    "\n",
    "YouTubeVideo(\"c_jACM5MUeo\", width=560, height=315)"
   ]
  },
  {
   "cell_type": "markdown",
   "id": "c6a3b7fd-8a77-4e9c-94f2-ab8840b2cf03",
   "metadata": {
    "deletable": false,
    "editable": false
   },
   "source": [
    "<!-- BEGIN QUESTION -->\n",
    "\n",
    "## Maternal Mortality Rates\n",
    "\n",
    "In this section, we’ll explore maternal mortality rates by race to better understand the deeper racial inequalities embedded in the U.S. healthcare system.\n",
    "\n",
    "### Question 1\n",
    "\n",
    "To begin, what do you know about how maternal mortality rates vary across different racial or ethnic groups (or other racial issues within the healthcare system)? Have you heard or learned about this issue before? If so, where did you first come across it?  \n",
    "*Answer in 1–2 sentences below.*\n"
   ]
  },
  {
   "cell_type": "markdown",
   "id": "31f21873",
   "metadata": {
    "tags": [
     "otter_answer_cell"
    ]
   },
   "source": [
    "_Type your answer here, replacing this text._"
   ]
  },
  {
   "cell_type": "markdown",
   "id": "a33e6e55-1eba-48a5-b8ad-e22a44bfe10d",
   "metadata": {
    "deletable": false,
    "editable": false
   },
   "source": [
    "<!-- END QUESTION -->\n",
    "\n",
    "The following dataset, collected by the CDC over several years, shows the maternal mortality rate (per 100,000 live births) broken down by race and year.  \n",
    "Run the cell below to view the data."
   ]
  },
  {
   "cell_type": "code",
   "execution_count": null,
   "id": "3f6f5dfd-ed4d-4641-b115-76c070383a2c",
   "metadata": {},
   "outputs": [],
   "source": [
    "hp.maternal"
   ]
  },
  {
   "cell_type": "markdown",
   "id": "ea5d823e-54d0-48bf-8a15-4fe9f8248f17",
   "metadata": {},
   "source": [
    "Now let’s take a closer look at two visualizations of this data.  \n",
    "Run the cell below to display two interactive graphs, and use the tools provided to explore patterns and trends more deeply.\n",
    "\n",
    "**Note:** The peak in the data occurs in 2021 due to the impacts of COVID-19, so keep that in mind when interpreting the results."
   ]
  },
  {
   "cell_type": "code",
   "execution_count": null,
   "id": "4fdbf265-170f-45ea-b173-49b40cb268eb",
   "metadata": {},
   "outputs": [],
   "source": [
    "hp.Mortality_Rate_bar()\n",
    "hp.Mortality_Rate_line()"
   ]
  },
  {
   "cell_type": "markdown",
   "id": "32dfcbec-a6ef-4d4a-aa8c-c9340c7f83a3",
   "metadata": {
    "deletable": false,
    "editable": false
   },
   "source": [
    "<!-- BEGIN QUESTION -->\n",
    "\n",
    "### Question 2  \n",
    "**Why is this happening?**\n",
    "\n",
    "After reviewing the following article:  \n",
    "[Black women’s maternal mortality crisis — AP News (2023)](https://projects.apnews.com/features/2023/from-birth-to-death/black-women-maternal-mortality-rate.html),  \n",
    "please address the following in the next cell:\n",
    "\n",
    "#### Explain the Data  \n",
    "Interpret the maternal mortality statistics you've observed, incorporating the context and insights provided by the article.  \n",
    "Consider factors such as racial disparities, systemic healthcare issues, and any historical or societal influences discussed.\n",
    "\n",
    "#### Reflect on Impact  \n",
    "How does this information influence your perception of the healthcare system?  \n",
    "Does it affect you personally or alter your understanding of racism in the healthcare system and how different patients are treated?  \n",
    "Share your thoughts on how these revelations might shape your views or actions regarding healthcare equity.\n"
   ]
  },
  {
   "cell_type": "markdown",
   "id": "cda8f2fa",
   "metadata": {
    "tags": [
     "otter_answer_cell"
    ]
   },
   "source": [
    "_Type your answer here, replacing this text._"
   ]
  },
  {
   "cell_type": "markdown",
   "id": "39f7a6b6-57fa-42a4-b5f6-bcf470b7f5b9",
   "metadata": {
    "deletable": false,
    "editable": false
   },
   "source": [
    "<!-- END QUESTION -->\n",
    "\n",
    "## Breast Cancer\n",
    "\n",
    "First, read the following article to get more background on racial disparities in healthcare:  \n",
    "[Breast Cancer Racial Disparities – BCRF](https://www.bcrf.org/about-breast-cancer/breast-cancer-racial-disparities/)\n",
    "\n",
    "Then, run the cell below to display breast cancer death rates by state.  \n",
    "Compare different states and make some initial observations.\n"
   ]
  },
  {
   "cell_type": "code",
   "execution_count": null,
   "id": "71211e95-22d3-4df0-b2cd-0b8e4019240b",
   "metadata": {},
   "outputs": [],
   "source": [
    "display(widgets.interactive(lambda state : hp.update_plot(state), state= hp.state_selector))"
   ]
  },
  {
   "cell_type": "markdown",
   "id": "cee49e67-088b-45e5-9ef7-1eb7111c9233",
   "metadata": {
    "deletable": false,
    "editable": false
   },
   "source": [
    "<!-- BEGIN QUESTION -->\n",
    "\n",
    "### Question 3\n",
    "\n",
    "Now, explore the different displays of data provided in the following article to better understand what our dataset is capturing — and what it might be missing:  \n",
    "[Breast Cancer Facts & Figures 2024 – American Cancer Society (PDF)](https://www.cancer.org/content/dam/cancer-org/research/cancer-facts-and-statistics/breast-cancer-facts-and-figures/2024/breast-cancer-facts-and-figures-2024.pdf)\n",
    "\n",
    "Afterward, choose one display from the article that you found most interesting.  \n",
    "Connect it to the dataset shown above, and write a short summary of your findings.\n"
   ]
  },
  {
   "cell_type": "markdown",
   "id": "187a1008",
   "metadata": {
    "tags": [
     "otter_answer_cell"
    ]
   },
   "source": [
    "_Type your answer here, replacing this text._"
   ]
  },
  {
   "cell_type": "markdown",
   "id": "bb2d16e0-9c89-449e-974c-ad43d88f7dbb",
   "metadata": {
    "deletable": false,
    "editable": false
   },
   "source": [
    "<!-- END QUESTION -->\n",
    "\n",
    "<!-- BEGIN QUESTION -->\n",
    "\n",
    "## Insurance\n",
    "\n",
    "### Introduction  \n",
    "Health insurance plays a major role in determining how easily someone can access healthcare services in the U.S.  \n",
    "But not everyone has equal access to insurance. Across racial and ethnic groups, there are large gaps in both coverage rates and the types of insurance people rely on—such as employer-sponsored plans, private insurance, or government programs like Medicaid.  \n",
    "These differences can significantly impact maternal health outcomes and the overall quality of care people receive.\n",
    "\n",
    "### Question 4  \n",
    "What types of health insurance are you familiar with, and who do you think has the hardest time accessing them?  \n",
    "Why do you think some groups are more likely to be uninsured?  \n",
    "*Answer below.*"
   ]
  },
  {
   "cell_type": "markdown",
   "id": "1a0bd85d",
   "metadata": {
    "tags": [
     "otter_answer_cell"
    ]
   },
   "source": [
    "_Type your answer here, replacing this text._"
   ]
  },
  {
   "cell_type": "markdown",
   "id": "c1b1a4bc-54d6-48ef-bf87-9c4f73810ac1",
   "metadata": {
    "deletable": false,
    "editable": false
   },
   "source": [
    "<!-- END QUESTION -->\n",
    "\n",
    "In this next dataset, we’re looking at information from a report by KFF (Kaiser Family Foundation), based on their analysis of American Community Survey (ACS) data collected by the U.S. Census Bureau. The analysis focuses on individuals under age 65 and covers the years 2010 through 2023.\n",
    "\n",
    "Run the next cells to display our two datasets:  \n",
    "- The first shows uninsured rates by race from 2010 to 2023.  \n",
    "- The second shows the average percentage of people in each racial group covered by various types of insurance."
   ]
  },
  {
   "cell_type": "code",
   "execution_count": null,
   "id": "cbb88243-2f66-4fd3-975b-7123d2181cb4",
   "metadata": {},
   "outputs": [],
   "source": [
    "hp.Uninsured_Rate"
   ]
  },
  {
   "cell_type": "code",
   "execution_count": null,
   "id": "15ffb29c-ec40-4097-897a-6554f8d236ea",
   "metadata": {},
   "outputs": [],
   "source": [
    "hp.insurance"
   ]
  },
  {
   "cell_type": "markdown",
   "id": "668f1df7-6cd8-4386-bcb5-48f1088081b2",
   "metadata": {},
   "source": [
    "play the next cell to see a visualizations of the data "
   ]
  },
  {
   "cell_type": "code",
   "execution_count": null,
   "id": "c698b882-a497-4382-8244-a3a1e372f3e7",
   "metadata": {},
   "outputs": [],
   "source": [
    "hp.Uninsured()"
   ]
  },
  {
   "cell_type": "code",
   "execution_count": null,
   "id": "e5338142-b2a8-4d68-ad9b-8b9fed4bd4f4",
   "metadata": {},
   "outputs": [],
   "source": [
    "hp.insurance_type()"
   ]
  },
  {
   "cell_type": "markdown",
   "id": "f81b1e6a-181e-4b29-b81b-08a4dd6d2708",
   "metadata": {
    "deletable": false,
    "editable": false
   },
   "source": [
    "<!-- BEGIN QUESTION -->\n",
    "\n",
    "### Question 5\n",
    "\n",
    "What do these differences in uninsured rates and types of insurance coverage suggest about systemic barriers in the U.S. healthcare system?  \n",
    "How might these barriers impact health outcomes across different communities?  \n",
    "Did anything stand out to you?"
   ]
  },
  {
   "cell_type": "markdown",
   "id": "38934ac6",
   "metadata": {
    "tags": [
     "otter_answer_cell"
    ]
   },
   "source": [
    "_Type your answer here, replacing this text._"
   ]
  },
  {
   "cell_type": "markdown",
   "id": "804c7818-232f-44ba-a35a-a28c5c6605d1",
   "metadata": {
    "deletable": false,
    "editable": false
   },
   "source": [
    "<!-- END QUESTION -->\n",
    "\n",
    "<!-- BEGIN QUESTION -->\n",
    "\n",
    "### Question 6\n",
    "\n",
    "#### Final Reflection: Answer the following questions\n",
    "\n",
    "- How do racial disparities in healthcare show up in both the numbers and the lived experiences described in the article?  \n",
    "- What are some limits of using just data to understand these issues?  \n",
    "- How do racial disparities in female health outcomes, like breast cancer death rates, reflect larger patterns of social inequality and systemic racism in the healthcare system?  \n",
    "- In what ways do structural factors (like access to insurance, quality of care, and early diagnosis) help explain why women of different racial backgrounds experience different health outcomes — even when they have the same diseases?\n",
    "\n"
   ]
  },
  {
   "cell_type": "markdown",
   "id": "90955276",
   "metadata": {
    "tags": [
     "otter_answer_cell"
    ]
   },
   "source": [
    "_Type your answer here, replacing this text._"
   ]
  },
  {
   "cell_type": "markdown",
   "id": "7b775014-c576-4bae-a7bd-e441843f5861",
   "metadata": {
    "deletable": false,
    "editable": false
   },
   "source": [
    "<!-- END QUESTION -->\n",
    "\n",
    "## 📋 Post-Notebook Reflection Form\n",
    "\n",
    "Thank you for completing the notebook! We’d love to hear your thoughts so we can continue improving and creating content that supports your learning.\n",
    "\n",
    "Please take a few minutes to fill out this short reflection form:\n",
    "\n",
    "👉 **[Click here to fill out the Reflection Form](https://docs.google.com/forms/d/e/1FAIpQLScTa5vPzgOcrjpTiJAqjUv-le9_OsSE1iEdcr_MJbreEA7AOA/viewform?usp=header)**\n",
    "\n",
    "---\n",
    "\n",
    "### 🧠 Why it matters:\n",
    "Your feedback helps us understand:\n",
    "- How clear and helpful the notebook was\n",
    "- What you learned from the experience\n",
    "- How your views on data science may have changed\n",
    "- What topics you’d like to see in the future\n",
    "\n",
    "This form is anonymous and should take less than 8 minutes to complete.\n",
    "\n",
    "We appreciate your time and honest input! 💬\n"
   ]
  },
  {
   "cell_type": "markdown",
   "id": "89f6f770",
   "metadata": {
    "deletable": false,
    "editable": false
   },
   "source": [
    "## Submission\n",
    "\n",
    "Make sure you have run all cells in your notebook in order before running the cell below, so that all images/graphs appear in the output. The cell below will generate a zip file for you to submit. **Please save before exporting!**"
   ]
  },
  {
   "cell_type": "code",
   "execution_count": null,
   "id": "9af068cd",
   "metadata": {
    "deletable": false,
    "editable": false
   },
   "outputs": [],
   "source": [
    "# Save your notebook first, then run this cell to export your submission.\n",
    "grader.export()"
   ]
  },
  {
   "cell_type": "markdown",
   "id": "2d174dba",
   "metadata": {},
   "source": [
    " "
   ]
  }
 ],
 "metadata": {
  "kernelspec": {
   "display_name": "Python 3 (ipykernel)",
   "language": "python",
   "name": "python3"
  },
  "language_info": {
   "codemirror_mode": {
    "name": "ipython",
    "version": 3
   },
   "file_extension": ".py",
   "mimetype": "text/x-python",
   "name": "python",
   "nbconvert_exporter": "python",
   "pygments_lexer": "ipython3",
   "version": "3.11.12"
  },
  "otter": {
   "OK_FORMAT": true,
   "tests": {}
  }
 },
 "nbformat": 4,
 "nbformat_minor": 5
}
